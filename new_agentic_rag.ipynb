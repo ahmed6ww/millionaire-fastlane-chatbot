{
 "cells": [
  {
   "cell_type": "code",
   "execution_count": 10,
   "metadata": {},
   "outputs": [],
   "source": [
    "from langchain.document_loaders import PyPDFDirectoryLoader\n",
    "from langchain.text_splitter import RecursiveCharacterTextSplitter\n",
    "from langchain.embeddings import SentenceTransformerEmbeddings\n",
    "import os\n",
    "from langchain_community.document_loaders import GithubFileLoader\n",
    "\n",
    "\n"
   ]
  },
  {
   "cell_type": "code",
   "execution_count": 4,
   "metadata": {},
   "outputs": [
    {
     "data": {
      "text/plain": [
       "True"
      ]
     },
     "execution_count": 4,
     "metadata": {},
     "output_type": "execute_result"
    }
   ],
   "source": [
    "from dotenv import load_dotenv\n",
    "load_dotenv()"
   ]
  },
  {
   "cell_type": "code",
   "execution_count": null,
   "metadata": {},
   "outputs": [],
   "source": [
    "loader = GithubFileLoader(\n",
    "    repo=\"langchain-ai/open-canvas\",\n",
    "    access_token=os.environ[\"GITHUB_API_URL\"],  # delete/comment out this argument if you've set the access token as an env var.\n",
    "    branch=\"master\",  # the branch name\n",
    "    github_api_url=\"https://api.github.com\",\n",
    "    file_filter=lambda file_path: file_path.endswith(\n",
    "    \n",
    "     \n",
    "   \n",
    "        \".md\"\n",
    "    ),\n",
    ")\n",
    "docs = loader.load()"
   ]
  },
  {
   "cell_type": "code",
   "execution_count": null,
   "metadata": {},
   "outputs": [
    {
     "data": {
      "text/plain": [
       "147"
      ]
     },
     "execution_count": 15,
     "metadata": {},
     "output_type": "execute_result"
    }
   ],
   "source": [
    "\n",
    "access_token = os.environ[\"GITHUB_ACCESS_TOKEN\"]\n",
    "def read_files(repo):\n",
    "    githubloader = GithubFileLoader(\n",
    "        repo=repo,\n",
    "        access_token=access_token,\n",
    "        branch=\"main\",\n",
    "        github_api_url=\"https://api.github.com\",\n",
    "        file_filter=lambda file_path: file_path.endswith(\n",
    "      (\".md\", \".ts\",'.tsx')  \n",
    "    \n",
    "     \n",
    "   \n",
    "    ),\n",
    "        )\n",
    "    documents = githubloader.load()\n",
    "    return documents\n",
    "\n",
    "doc = read_files(\"langchain-ai/open-canvas\")\n",
    "len(doc)\n",
    "\n"
   ]
  },
  {
   "cell_type": "code",
   "execution_count": 24,
   "metadata": {},
   "outputs": [
    {
     "data": {
      "text/plain": [
       "728"
      ]
     },
     "execution_count": 24,
     "metadata": {},
     "output_type": "execute_result"
    }
   ],
   "source": [
    "def chunk_data(docs,chunk_size=1000, chunk_overlap=130):\n",
    "   text_splitter = RecursiveCharacterTextSplitter(chunk_size=chunk_size, chunk_overlap=chunk_overlap)\n",
    "   docs = text_splitter.split_documents(docs)\n",
    "   return docs\n",
    "\n",
    "documents = chunk_data(docs=doc)\n",
    "len(documents)"
   ]
  },
  {
   "cell_type": "code",
   "execution_count": 21,
   "metadata": {},
   "outputs": [
    {
     "name": "stdout",
     "output_type": "stream",
     "text": [
      "page_content='import {\n",
      "  OpenCanvasGraphAnnotation,\n",
      "  OpenCanvasGraphReturnType,\n",
      "} from \"../../state\";\n",
      "import { LangGraphRunnableConfig } from \"@langchain/langgraph\";\n",
      "import {\n",
      "  getFormattedReflections,\n",
      "  getModelFromConfig,\n",
      "  getModelConfig,\n",
      "  optionallyGetSystemPromptFromConfig,\n",
      "} from \"@/agent/utils\";\n",
      "import { ARTIFACT_TOOL_SCHEMA } from \"./schemas\";\n",
      "import { ArtifactV3 } from \"@/types\";\n",
      "import { createArtifactContent, formatNewArtifactPrompt } from \"./utils\";\n",
      "\n",
      "/**\n",
      " * Generate a new artifact based on the user's query.\n",
      " */\n",
      "export const generateArtifact = async (\n",
      "  state: typeof OpenCanvasGraphAnnotation.State,\n",
      "  config: LangGraphRunnableConfig\n",
      "): Promise<OpenCanvasGraphReturnType> => {\n",
      "  const { modelName } = getModelConfig(config);\n",
      "  const smallModel = await getModelFromConfig(config, {\n",
      "    temperature: 0.5,\n",
      "  });\n",
      "\n",
      "  const modelWithArtifactTool = smallModel.bindTools(\n",
      "    [\n",
      "      {\n",
      "        name: \"generate_artifact\",\n",
      "        schema: ARTIFACT_TOOL_SCHEMA,\n",
      "      },\n",
      "    ],\n",
      "    { tool_choice: \"generate_artifact\" }\n",
      "  );\n",
      "\n",
      "  const memoriesAsString = await getFormattedReflections(config);\n",
      "  const formattedNewArtifactPrompt = formatNewArtifactPrompt(\n",
      "    memoriesAsString,\n",
      "    modelName\n",
      "  );\n",
      "\n",
      "  const userSystemPrompt = optionallyGetSystemPromptFromConfig(config);\n",
      "  const fullSystemPrompt = userSystemPrompt\n",
      "    ? `${userSystemPrompt}\\n${formattedNewArtifactPrompt}`\n",
      "    : formattedNewArtifactPrompt;\n",
      "\n",
      "  const response = await modelWithArtifactTool.invoke(\n",
      "    [{ role: \"system\", content: fullSystemPrompt }, ...state.messages],\n",
      "    { runName: \"generate_artifact\" }\n",
      "  );\n",
      "\n",
      "  const newArtifactContent = createArtifactContent(response.tool_calls?.[0]);\n",
      "  const newArtifact: ArtifactV3 = {\n",
      "    currentIndex: 1,\n",
      "    contents: [newArtifactContent],\n",
      "  };\n",
      "\n",
      "  return {\n",
      "    artifact: newArtifact,\n",
      "  };\n",
      "};\n",
      "' metadata={'path': 'src/agent/open-canvas/nodes/generate-artifact/index.ts', 'sha': '4a477ec2b61c66908a3ee60325e0da32ce548803', 'source': 'https://api.github.com/langchain-ai/open-canvas/blob/main/src/agent/open-canvas/nodes/generate-artifact/index.ts'}\n"
     ]
    }
   ],
   "source": [
    "print(doc[4])"
   ]
  },
  {
   "cell_type": "code",
   "execution_count": 22,
   "metadata": {},
   "outputs": [
    {
     "name": "stderr",
     "output_type": "stream",
     "text": [
      "C:\\Users\\Dell\\AppData\\Local\\Temp\\ipykernel_16136\\4023655766.py:1: LangChainDeprecationWarning: The class `HuggingFaceEmbeddings` was deprecated in LangChain 0.2.2 and will be removed in 1.0. An updated version of the class exists in the :class:`~langchain-huggingface package and should be used instead. To use it run `pip install -U :class:`~langchain-huggingface` and import as `from :class:`~langchain_huggingface import HuggingFaceEmbeddings``.\n",
      "  embeddings = SentenceTransformerEmbeddings(model_name=\"all-mpnet-base-v2\")\n"
     ]
    }
   ],
   "source": [
    "embeddings = SentenceTransformerEmbeddings(model_name=\"all-mpnet-base-v2\")"
   ]
  },
  {
   "cell_type": "code",
   "execution_count": 25,
   "metadata": {},
   "outputs": [],
   "source": [
    "#This will create a new index in Pinecone\n",
    "from pinecone import Pinecone, ServerlessSpec\n",
    "import time\n",
    "\n",
    "pc = Pinecone(api_key=os.environ.get(\"PINECONE_API_KEY\"))\n",
    "\n",
    "cloud = os.environ.get('PINECONE_CLOUD') or 'aws'\n",
    "region = os.environ.get('PINECONE_REGION') or 'us-east-1'\n",
    "spec = ServerlessSpec(cloud=cloud, region=region)\n",
    "\n",
    "index_name = \"open-canvas-assistant\"\n",
    "\n",
    "if index_name not in pc.list_indexes().names():\n",
    "    pc.create_index(\n",
    "        name=index_name,\n",
    "        dimension=768,\n",
    "        metric=\"cosine\",\n",
    "        spec=spec\n",
    "    )\n",
    "    # Wait for index to be ready\n",
    "    while not pc.describe_index(index_name).status['ready']:\n",
    "        time.sleep(1)\n"
   ]
  },
  {
   "cell_type": "code",
   "execution_count": 26,
   "metadata": {},
   "outputs": [],
   "source": [
    "#This will upsert the documents into the index\n",
    "from langchain.vectorstores import Pinecone\n",
    "index = Pinecone.from_documents( documents, embeddings,index_name=index_name)"
   ]
  },
  {
   "cell_type": "code",
   "execution_count": 27,
   "metadata": {},
   "outputs": [],
   "source": [
    "def retrieve_query(query,k=4):\n",
    "    matching_results = index.similarity_search(query, k=k)\n",
    "    return matching_results"
   ]
  },
  {
   "cell_type": "code",
   "execution_count": 29,
   "metadata": {},
   "outputs": [],
   "source": [
    "from langchain.chains.question_answering import load_qa_chain\n",
    "from langchain_groq import ChatGroq\n",
    "\n",
    "\n",
    "groq_api_key = os.environ['GROQ_API_KEY']\n",
    "llm = ChatGroq(\n",
    "            groq_api_key=groq_api_key,\n",
    "            model_name=\"mixtral-8x7b-32768\",\n",
    "            temperature=0.5,\n",
    "    )\n",
    "chain = load_qa_chain(llm,chain_type=\"stuff\")"
   ]
  },
  {
   "cell_type": "code",
   "execution_count": 30,
   "metadata": {},
   "outputs": [],
   "source": [
    "def chatbot(query):\n",
    "    matching_results = retrieve_query(query)\n",
    "    response = chain.run(input_documents=matching_results,question=query)\n",
    "    return response"
   ]
  },
  {
   "cell_type": "code",
   "execution_count": 34,
   "metadata": {},
   "outputs": [
    {
     "name": "stdout",
     "output_type": "stream",
     "text": [
      "To create nodes in OpenCanvas, you can use the LangGraph Studio or the LangSmith platform as mentioned in the development section. After setting up the environment, you can create nodes by writing code using the GraphComponent and Node classes provided by the LangGraph library. Here is an example:\n",
      "\n",
      "```jsx\n",
      "import { GraphComponent, Node } from \"langgraph\";\n",
      "\n",
      "// Create a new GraphComponent\n",
      "const graphComponent = new GraphComponent();\n",
      "\n",
      "// Create a new node\n",
      "const node = new Node(\"My Node\");\n",
      "\n",
      "// Add the node to the graph\n",
      "graphComponent.addNode(node);\n",
      "```\n",
      "\n",
      "To add edges between nodes, you can use the addEdge method provided by the GraphComponent class. Here is an example:\n",
      "\n",
      "```jsx\n",
      "import { GraphComponent, Node } from \"langgraph\";\n",
      "\n",
      "// Create a new GraphComponent\n",
      "const graphComponent = new GraphComponent();\n",
      "\n",
      "// Create two nodes\n",
      "const node1 = new Node(\"Node 1\");\n",
      "const node2 = new Node(\"Node 2\");\n",
      "\n",
      "// Add the nodes to the graph\n",
      "graphComponent.addNode(node1);\n",
      "graphComponent.addNode(node2);\n",
      "\n",
      "// Add an edge between the nodes\n",
      "graphComponent.addEdge(node1, node2);\n",
      "```\n",
      "\n",
      "To build a graph, you can repeat the above steps to add more nodes and edges as needed. You can also use the LangGraph Studio to visually build the graph and export the code.\n",
      "\n",
      "Note: The above code is written in JavaScript using the LangGraph library. OpenCanvas is built on top of the LangGraph library and provides a user-friendly interface to create and use graphs. The actual implementation of nodes and edges in OpenCanvas may differ from the above code.\n"
     ]
    }
   ],
   "source": [
    "query = \"I want to learn open canvas tell me first how to create nodes in open canvas. write code for it also add nodes and eges and build a graph\"\n",
    "answer = chatbot(query)\n",
    "print(answer)"
   ]
  },
  {
   "cell_type": "code",
   "execution_count": 35,
   "metadata": {},
   "outputs": [],
   "source": [
    "retriever = index.as_retriever(search_type=\"similarity\", search_kwargs={\"k\": 2})\n",
    "from langchain.tools.retriever import create_retriever_tool\n",
    "\n",
    "retriever_tool = create_retriever_tool(\n",
    "        retriever,\n",
    "        \"retrieve_files_from_repository\",\n",
    "        \"Search and return information about open-cnavas,nodes,edges,graph,canvas,agents, and all data from the document\",\n",
    "    )\n",
    "\n",
    "tools = [retriever_tool]"
   ]
  },
  {
   "cell_type": "code",
   "execution_count": 36,
   "metadata": {},
   "outputs": [],
   "source": [
    "from typing import Annotated, Sequence\n",
    "from typing_extensions import TypedDict\n",
    "\n",
    "from langchain_core.messages import BaseMessage\n",
    "\n",
    "from langgraph.graph.message import add_messages\n",
    "\n",
    "\n",
    "class AgentState(TypedDict):\n",
    "    # The add_messages function defines how an update should be processed\n",
    "    # Default is to replace. add_messages says \"append\"\n",
    "    messages: Annotated[Sequence[BaseMessage], add_messages]"
   ]
  },
  {
   "cell_type": "code",
   "execution_count": 37,
   "metadata": {},
   "outputs": [
    {
     "name": "stdout",
     "output_type": "stream",
     "text": [
      "********************Prompt[rlm/rag-prompt]********************\n"
     ]
    },
    {
     "name": "stderr",
     "output_type": "stream",
     "text": [
      "c:\\Users\\Dell\\AppData\\Local\\pypoetry\\Cache\\virtualenvs\\app-HIjgm-I8-py3.12\\Lib\\site-packages\\langsmith\\client.py:241: LangSmithMissingAPIKeyWarning: API key must be provided when using hosted LangSmith API\n",
      "  warnings.warn(\n"
     ]
    },
    {
     "name": "stdout",
     "output_type": "stream",
     "text": [
      "================================\u001b[1m Human Message \u001b[0m=================================\n",
      "\n",
      "You are an assistant for question-answering tasks. Use the following pieces of retrieved context to answer the question. If you don't know the answer, just say that you don't know. Use three sentences maximum and keep the answer concise.\n",
      "Question: \u001b[33;1m\u001b[1;3m{question}\u001b[0m \n",
      "Context: \u001b[33;1m\u001b[1;3m{context}\u001b[0m \n",
      "Answer:\n"
     ]
    }
   ],
   "source": [
    "from typing import Annotated, Literal, Sequence\n",
    "from typing_extensions import TypedDict\n",
    "\n",
    "from langchain import hub\n",
    "from langchain_core.messages import BaseMessage, HumanMessage\n",
    "from langchain_core.output_parsers import StrOutputParser\n",
    "from langchain_core.prompts import PromptTemplate\n",
    "from langchain_openai import ChatOpenAI\n",
    "\n",
    "from pydantic import BaseModel, Field\n",
    "\n",
    "\n",
    "from langgraph.prebuilt import tools_condition\n",
    "\n",
    "### Edges\n",
    "\n",
    "\n",
    "def grade_documents(state) -> Literal[\"generate\", \"rewrite\"]:\n",
    "    \"\"\"\n",
    "    Determines whether the retrieved documents are relevant to the question.\n",
    "\n",
    "    Args:\n",
    "        state (messages): The current state\n",
    "\n",
    "    Returns:\n",
    "        str: A decision for whether the documents are relevant or not\n",
    "    \"\"\"\n",
    "\n",
    "    print(\"---CHECK RELEVANCE---\")\n",
    "\n",
    "    # Data model\n",
    "    class grade(BaseModel):\n",
    "        \"\"\"Binary score for relevance check.\"\"\"\n",
    "\n",
    "        binary_score: str = Field(description=\"Relevance score 'yes' or 'no'\")\n",
    "\n",
    "    # LLM\n",
    "  \n",
    "\n",
    "    # LLM with tool and validation\n",
    "    llm_with_tool = llm.with_structured_output(grade)\n",
    "\n",
    "    # Prompt\n",
    "    prompt = PromptTemplate(\n",
    "        template=\"\"\"You are a grader assessing relevance of a retrieved document to a user question. \\n \n",
    "        Here is the retrieved document: \\n\\n {context} \\n\\n\n",
    "        Here is the user question: {question} \\n\n",
    "        If the document contains keyword(s) or semantic meaning related to the user question, grade it as relevant. \\n\n",
    "        Give a binary score 'yes' or 'no' score to indicate whether the document is relevant to the question.\"\"\",\n",
    "        input_variables=[\"context\", \"question\"],\n",
    "    )\n",
    "\n",
    "    # Chain\n",
    "    chain = prompt | llm_with_tool\n",
    "\n",
    "    messages = state[\"messages\"]\n",
    "    last_message = messages[-1]\n",
    "\n",
    "    question = messages[0].content\n",
    "    docs = last_message.content\n",
    "\n",
    "    scored_result = chain.invoke({\"question\": question, \"context\": docs})\n",
    "\n",
    "    score = scored_result.binary_score\n",
    "\n",
    "    if score == \"yes\":\n",
    "        print(\"---DECISION: DOCS RELEVANT---\")\n",
    "        return \"generate\"\n",
    "\n",
    "    else:\n",
    "        print(\"---DECISION: DOCS NOT RELEVANT---\")\n",
    "        print(score)\n",
    "        return \"rewrite\"\n",
    "\n",
    "\n",
    "### Nodes\n",
    "\n",
    "\n",
    "def agent(state):\n",
    "    \"\"\"\n",
    "    Invokes the agent model to generate a response based on the current state. Given\n",
    "    the question, it will decide to retrieve using the retriever tool, or simply end.\n",
    "\n",
    "    Args:\n",
    "        state (messages): The current state\n",
    "\n",
    "    Returns:\n",
    "        dict: The updated state with the agent response appended to messages\n",
    "    \"\"\"\n",
    "    print(\"---CALL AGENT---\")\n",
    "    messages = state[\"messages\"]\n",
    "    \n",
    "    model = llm.bind_tools(tools)\n",
    "    response = model.invoke(messages)\n",
    "    # We return a list, because this will get added to the existing list\n",
    "    return {\"messages\": [response]}\n",
    "\n",
    "\n",
    "def rewrite(state):\n",
    "    \"\"\"\n",
    "    Transform the query to produce a better question.\n",
    "\n",
    "    Args:\n",
    "        state (messages): The current state\n",
    "\n",
    "    Returns:\n",
    "        dict: The updated state with re-phrased question\n",
    "    \"\"\"\n",
    "\n",
    "    print(\"---TRANSFORM QUERY---\")\n",
    "    messages = state[\"messages\"]\n",
    "    question = messages[0].content\n",
    "\n",
    "    msg = [\n",
    "        HumanMessage(\n",
    "            content=f\"\"\" \\n \n",
    "    Look at the input and try to reason about the underlying semantic intent / meaning. \\n \n",
    "    Here is the initial question:\n",
    "    \\n ------- \\n\n",
    "    {question} \n",
    "    \\n ------- \\n\n",
    "    Formulate an improved question: \"\"\",\n",
    "        )\n",
    "    ]\n",
    "\n",
    "    # Grader\n",
    "    \n",
    "    response = llm.invoke(msg)\n",
    "    return {\"messages\": [response]}\n",
    "\n",
    "\n",
    "def generate(state):\n",
    "    \"\"\"\n",
    "    Generate answer\n",
    "\n",
    "    Args:\n",
    "        state (messages): The current state\n",
    "\n",
    "    Returns:\n",
    "         dict: The updated state with re-phrased question\n",
    "    \"\"\"\n",
    "    print(\"---GENERATE---\")\n",
    "    messages = state[\"messages\"]\n",
    "    question = messages[0].content\n",
    "    last_message = messages[-1]\n",
    "\n",
    "    docs = last_message.content\n",
    "\n",
    "    # Prompt\n",
    "    prompt = hub.pull(\"rlm/rag-prompt\")\n",
    "\n",
    "    # LLM\n",
    "    \n",
    "\n",
    "    # Post-processing\n",
    "    def format_docs(docs):\n",
    "        return \"\\n\\n\".join(doc.page_content for doc in docs)\n",
    "\n",
    "    # Chain\n",
    "    rag_chain = prompt | llm | StrOutputParser()\n",
    "\n",
    "    # Run\n",
    "    response = rag_chain.invoke({\"context\": docs, \"question\": question})\n",
    "    return {\"messages\": [response]}\n",
    "\n",
    "\n",
    "print(\"*\" * 20 + \"Prompt[rlm/rag-prompt]\" + \"*\" * 20)\n",
    "prompt = hub.pull(\"rlm/rag-prompt\").pretty_print()  # Show what the prompt looks like"
   ]
  },
  {
   "cell_type": "code",
   "execution_count": 38,
   "metadata": {},
   "outputs": [],
   "source": [
    "from langgraph.graph import END, StateGraph, START\n",
    "from langgraph.prebuilt import ToolNode\n",
    "\n",
    "# Define a new graph\n",
    "workflow = StateGraph(AgentState)\n",
    "\n",
    "# Define the nodes we will cycle between\n",
    "workflow.add_node(\"agent\", agent)  # agent\n",
    "retrieve = ToolNode([retriever_tool])\n",
    "workflow.add_node(\"retrieve\", retrieve)  # retrieval\n",
    "workflow.add_node(\"rewrite\", rewrite)  # Re-writing the question\n",
    "workflow.add_node(\n",
    "    \"generate\", generate\n",
    ")  # Generating a response after we know the documents are relevant\n",
    "# Call agent node to decide to retrieve or not\n",
    "workflow.add_edge(START, \"agent\")\n",
    "\n",
    "# Decide whether to retrieve\n",
    "workflow.add_conditional_edges(\n",
    "    \"agent\",\n",
    "    # Assess agent decision\n",
    "    tools_condition,\n",
    "    {\n",
    "        # Translate the condition outputs to nodes in our graph\n",
    "        \"tools\": \"retrieve\",\n",
    "        END: END,\n",
    "    },\n",
    ")\n",
    "\n",
    "# Edges taken after the `action` node is called.\n",
    "workflow.add_conditional_edges(\n",
    "    \"retrieve\",\n",
    "    # Assess agent decision\n",
    "    grade_documents,\n",
    ")\n",
    "workflow.add_edge(\"generate\", END)\n",
    "workflow.add_edge(\"rewrite\", \"agent\")\n",
    "\n",
    "# Compile\n",
    "graph = workflow.compile()"
   ]
  },
  {
   "cell_type": "code",
   "execution_count": 39,
   "metadata": {},
   "outputs": [
    {
     "data": {
      "image/png": "[encoded data removed]",
      "text/plain": [
       "<IPython.core.display.Image object>"
      ]
     },
     "metadata": {},
     "output_type": "display_data"
    }
   ],
   "source": [
    "from IPython.display import Image, display\n",
    "\n",
    "try:\n",
    "    display(Image(graph.get_graph(xray=True).draw_mermaid_png()))\n",
    "except Exception:\n",
    "    # This requires some extra dependencies and is optional\n",
    "    pass"
   ]
  },
  {
   "cell_type": "code",
   "execution_count": 40,
   "metadata": {},
   "outputs": [
    {
     "name": "stdout",
     "output_type": "stream",
     "text": [
      "---CALL AGENT---\n",
      "\"Output from node 'agent':\"\n",
      "'---'\n",
      "{ 'messages': [ AIMessage(content='', additional_kwargs={'tool_calls': [{'id': 'call_fjt0', 'function': {'arguments': '{\"query\":\"tutorial for creating nodes in open canvas\"}', 'name': 'retrieve_files_from_repository'}, 'type': 'function'}]}, response_metadata={'token_usage': {'completion_tokens': 425, 'prompt_tokens': 1235, 'total_tokens': 1660, 'completion_time': 0.681187227, 'prompt_time': 0.088373251, 'queue_time': 0.0009555680000000039, 'total_time': 0.769560478}, 'model_name': 'mixtral-8x7b-32768', 'system_fingerprint': 'fp_c5f20b5bb1', 'finish_reason': 'tool_calls', 'logprobs': None}, id='run-187ccae3-af5f-45e7-bf24-de64ac80eec4-0', tool_calls=[{'name': 'retrieve_files_from_repository', 'args': {'query': 'tutorial for creating nodes in open canvas'}, 'id': 'call_fjt0', 'type': 'tool_call'}], usage_metadata={'input_tokens': 1235, 'output_tokens': 425, 'total_tokens': 1660})]}\n",
      "'\\n---\\n'\n",
      "---CHECK RELEVANCE---\n",
      "---DECISION: DOCS RELEVANT---\n",
      "\"Output from node 'retrieve':\"\n",
      "'---'\n",
      "{ 'messages': [ ToolMessage(content='## How to use\\n\\nYou can use our deployed version for free by visiting [opencanvas.langchain.com](https://opencanvas.langchain.com/)\\n\\nor\\n\\nYou can clone this repository and run locally/deploy to your own cloud. See the next section for steps on how to do this.\\n\\n![Diagram of the Open Canvas graph](./public/lg_studio_graph_diagram.png)\\n\\n## Development\\n\\nRunning or developing Open Canvas is easy. Start by cloning this repository and navigating into the directory.\\n\\n```bash\\ngit clone https://github.com/langchain-ai/open-canvas.git\\n\\ncd open-canvas\\n```\\n\\nNext, install the dependencies via Yarn:\\n\\n```bash\\nyarn install\\n```\\n\\nThen [install LangGraph Studio](https://studio.langchain.com/) which is required to run the graphs locally, or [create a LangSmith account](https://smith.langchain.com/) to deploy to production on LangGraph Cloud.\\n\\nAfter that, copy the `.env.example` file contents into `.env` and set the required values:\\n\\n```bash\\n# LangSmith tracing\\nLANGCHAIN_TRACING_V2=true\\nLANGCHAIN_API_KEY=\\n\\n1. **Open Source**: All the code, from the frontend, to the content generation agent, to the reflection agent is open source and MIT licensed.\\n2. **Built in memory**: Open Canvas ships out of the box with a [reflection agent](https://langchain-ai.github.io/langgraphjs/tutorials/reflection/reflection/) which stores style rules and user insights in a [shared memory store](https://langchain-ai.github.io/langgraphjs/concepts/memory/). This allows Open Canvas to remember facts about you across sessions.\\n3. **Start from existing documents**: Open Canvas allows users to start with a blank text, or code editor in the language of their choice, allowing you to start the session with your existing content, instead of being forced to start with a chat interaction. We believe this is an ideal UX because many times you will already have some content to start with, and want to iterate on-top of it.\\n\\n## Features', name='retrieve_files_from_repository', id='afece88c-050e-4360-8cb9-9def4a03994b', tool_call_id='call_fjt0')]}\n",
      "'\\n---\\n'\n",
      "---GENERATE---\n"
     ]
    },
    {
     "name": "stderr",
     "output_type": "stream",
     "text": [
      "c:\\Users\\Dell\\AppData\\Local\\pypoetry\\Cache\\virtualenvs\\app-HIjgm-I8-py3.12\\Lib\\site-packages\\langsmith\\client.py:241: LangSmithMissingAPIKeyWarning: API key must be provided when using hosted LangSmith API\n",
      "  warnings.warn(\n"
     ]
    },
    {
     "name": "stdout",
     "output_type": "stream",
     "text": [
      "\"Output from node 'generate':\"\n",
      "'---'\n",
      "{ 'messages': [ 'To create nodes in OpenCanvas, you can use the deployed '\n",
      "                'version at '\n",
      "                '[opencanvas.langchain.com](https://opencanvas.langchain.com/) '\n",
      "                'or clone the repository and run it locally. After setting up '\n",
      "                'the environment, you can create nodes by adding content in '\n",
      "                'the text or code editor. \\n'\n",
      "                '\\n'\n",
      "                'For adding nodes and edges programmatically, you can use '\n",
      "                'LangGraphJS, a library for building and running Langchain '\n",
      "                \"graphs. Here's a sample code snippet:\\n\"\n",
      "                '\\n'\n",
      "                '```javascript\\n'\n",
      "                'import { LangchainGraph, TextNode, Edge } from '\n",
      "                \"'langgraphjs';\\n\"\n",
      "                '\\n'\n",
      "                'const graph = new LangchainGraph();\\n'\n",
      "                \"const node1 = new TextNode('Hello');\\n\"\n",
      "                \"const node2 = new TextNode('World');\\n\"\n",
      "                'graph.addNode(node1);\\n'\n",
      "                'graph.addNode(node2);\\n'\n",
      "                'graph.addEdge(new Edge(node1, node2));\\n'\n",
      "                '```\\n'\n",
      "                '\\n'\n",
      "                'This creates a graph with two nodes and an edge connecting '\n",
      "                'them. Note that this requires a good understanding of the '\n",
      "                'underlying Langchain concepts.']}\n",
      "'\\n---\\n'\n"
     ]
    }
   ],
   "source": [
    "import pprint\n",
    "\n",
    "inputs = {\n",
    "    \"messages\": [\n",
    "        (\"user\", \"I want to learn open canvas tell me first how to create nodes in open canvas. write code for it also add nodes and eges and build a graph?\"),\n",
    "    ]\n",
    "}\n",
    "for output in graph.stream(inputs):\n",
    "    for key, value in output.items():\n",
    "        pprint.pprint(f\"Output from node '{key}':\")\n",
    "        pprint.pprint(\"---\")\n",
    "        pprint.pprint(value, indent=2, width=80, depth=None)\n",
    "    pprint.pprint(\"\\n---\\n\")"
   ]
  }
 ],
 "metadata": {
  "kernelspec": {
   "display_name": "app-HIjgm-I8-py3.12",
   "language": "python",
   "name": "python3"
  },
  "language_info": {
   "codemirror_mode": {
    "name": "ipython",
    "version": 3
   },
   "file_extension": ".py",
   "mimetype": "text/x-python",
   "name": "python",
   "nbconvert_exporter": "python",
   "pygments_lexer": "ipython3",
   "version": "3.12.0"
  }
 },
 "nbformat": 4,
 "nbformat_minor": 2
}
