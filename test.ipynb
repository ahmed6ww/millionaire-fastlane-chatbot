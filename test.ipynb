{
 "cells": [
  {
   "cell_type": "code",
   "execution_count": 53,
   "metadata": {},
   "outputs": [],
   "source": [
    "import langchain\n",
    "import pinecone\n",
    "from langchain.document_loaders import PyPDFDirectoryLoader\n",
    "from langchain.text_splitter import RecursiveCharacterTextSplitter\n",
    "from langchain.embeddings import SentenceTransformerEmbeddings\n",
    "from langchain.vectorstores import Pinecone\n",
    "from langchain_groq import ChatGroq\n"
   ]
  },
  {
   "cell_type": "code",
   "execution_count": 54,
   "metadata": {},
   "outputs": [
    {
     "data": {
      "text/plain": [
       "True"
      ]
     },
     "execution_count": 54,
     "metadata": {},
     "output_type": "execute_result"
    }
   ],
   "source": [
    "from dotenv import load_dotenv\n",
    "load_dotenv()"
   ]
  },
  {
   "cell_type": "code",
   "execution_count": 55,
   "metadata": {},
   "outputs": [],
   "source": [
    "import os"
   ]
  },
  {
   "cell_type": "code",
   "execution_count": 56,
   "metadata": {},
   "outputs": [],
   "source": [
    "def read_pdf_files(pdf_directory):\n",
    "    pdf_loader = PyPDFDirectoryLoader(pdf_directory)\n",
    "    documents = pdf_loader.load()\n",
    "    return documents\n",
    "    "
   ]
  },
  {
   "cell_type": "code",
   "execution_count": 57,
   "metadata": {},
   "outputs": [
    {
     "data": {
      "text/plain": [
       "340"
      ]
     },
     "execution_count": 57,
     "metadata": {},
     "output_type": "execute_result"
    }
   ],
   "source": [
    "doc = read_pdf_files(\"document/\")\n",
    "len(doc)"
   ]
  },
  {
   "cell_type": "code",
   "execution_count": 58,
   "metadata": {},
   "outputs": [],
   "source": [
    "def chunk_data(docs,chunk_size=800, chunk_overlap=50):\n",
    "   text_splitter = RecursiveCharacterTextSplitter(chunk_size=chunk_size, chunk_overlap=chunk_overlap)\n",
    "   docs = text_splitter.split_documents(docs)\n",
    "   return docs"
   ]
  },
  {
   "cell_type": "code",
   "execution_count": 59,
   "metadata": {},
   "outputs": [
    {
     "data": {
      "text/plain": [
       "1083"
      ]
     },
     "execution_count": 59,
     "metadata": {},
     "output_type": "execute_result"
    }
   ],
   "source": [
    "documents = chunk_data(docs=doc)\n",
    "len(documents)"
   ]
  },
  {
   "cell_type": "code",
   "execution_count": 60,
   "metadata": {},
   "outputs": [],
   "source": [
    "embeddings = SentenceTransformerEmbeddings(model_name=\"all-MiniLM-L6-v2\")"
   ]
  },
  {
   "cell_type": "code",
   "execution_count": 61,
   "metadata": {},
   "outputs": [
    {
     "data": {
      "text/plain": [
       "384"
      ]
     },
     "execution_count": 61,
     "metadata": {},
     "output_type": "execute_result"
    }
   ],
   "source": [
    "vectors = embeddings.embed_query(\"how \")\n",
    "len(vectors)"
   ]
  },
  {
   "cell_type": "code",
   "execution_count": null,
   "metadata": {},
   "outputs": [],
   "source": [
    "from pinecone import Pinecone, ServerlessSpec\n",
    "\n",
    "key = os.getenv(\"PINECONE_API_KEY\")\n",
    "pc = Pinecone(api_key=key)\n",
    "# Create a serverless index\n",
    "index_name = \"millionairefastlanechatbot\"\n",
    "\n",
    "pc.create_index(\n",
    "    name=index_name,\n",
    "    dimension=384, # Replace with your model dimensions\n",
    "    metric=\"cosine\", # Replace with your model metric\n",
    "    spec=ServerlessSpec(\n",
    "        cloud=\"aws\",\n",
    "        region=\"us-east-1\"\n",
    "    ) \n",
    ")\n"
   ]
  },
  {
   "cell_type": "code",
   "execution_count": 63,
   "metadata": {},
   "outputs": [],
   "source": [
    "from langchain.vectorstores import Pinecone\n",
    "index = Pinecone.from_documents( documents, embeddings,index_name=index_name)"
   ]
  },
  {
   "cell_type": "code",
   "execution_count": 64,
   "metadata": {},
   "outputs": [],
   "source": [
    "def retrieve_query(query,k=2):\n",
    "    matching_results = index.similarity_search(query, k=k)\n",
    "    return matching_results"
   ]
  },
  {
   "cell_type": "code",
   "execution_count": 65,
   "metadata": {},
   "outputs": [],
   "source": [
    "from langchain.chains.question_answering import load_qa_chain\n",
    "from langchain_groq import ChatGroq\n",
    "\n",
    "\n",
    "groq_api_key = os.environ['GROQ_API_KEY']\n",
    "llm = ChatGroq(\n",
    "            groq_api_key=groq_api_key,\n",
    "            model_name=\"llama3-groq-70b-8192-tool-use-preview\",\n",
    "            temperature=0.5,\n",
    "    )\n",
    "chain = load_qa_chain(llm,chain_type=\"stuff\")"
   ]
  },
  {
   "cell_type": "code",
   "execution_count": 83,
   "metadata": {},
   "outputs": [],
   "source": [
    "def chatbot(query):\n",
    "    matching_results = retrieve_query(query)\n",
    "    response = chain.run(input_documents=matching_results,question=query)\n",
    "    return response"
   ]
  },
  {
   "cell_type": "code",
   "execution_count": 84,
   "metadata": {},
   "outputs": [
    {
     "name": "stdout",
     "output_type": "stream",
     "text": [
      "The Fastlane Roadmap is an alternative financial strategy that is predicated on Controllable Unlimited Leverage. It is predisposed to wealth and capable of generating \"Get Rich Quick\" results, not to be confused with \"Get Rich Easy.\" The main difference between the Fastlane Roadmap and the Slowlane Roadmap is the speed at which wealth is generated. The Fastlane Roadmap focuses on creating wealth quickly, while the Slowlane Roadmap is a more traditional approach that may take decades to achieve financial freedom.\n",
      "\n",
      "Strategies for the Fastlane Roadmap include:\n",
      "\n",
      "1. Building a business: Starting a business can provide unlimited leverage and potential for wealth creation.\n",
      "2. Investing in real estate: Real estate investing can provide passive income and leverage through financing.\n",
      "3. Investing in the stock market: Investing in stocks can provide leverage and potential for wealth creation.\n",
      "4. Creating intellectual property: Creating intellectual property, such as patents or copyrights, can provide passive income and leverage.\n",
      "5. Building a brand: Building a strong brand can increase the value of a business and provide leverage.\n",
      "\n",
      "A story from the book could be about someone who starts a small business and uses leverage to grow it quickly, eventually achieving financial freedom in a shorter amount of time compared to following the Slowlane Roadmap.\n"
     ]
    }
   ],
   "source": [
    "query = \"what is fastlane roadmap.and what is the difference between fastlane roadmap and slowlane roadmap. Give strategies for fastlane roadmap.Give any story from the book\"\n",
    "answer = chatbot(query)\n",
    "print(answer)"
   ]
  }
 ],
 "metadata": {
  "kernelspec": {
   "display_name": "app-HIjgm-I8-py3.12",
   "language": "python",
   "name": "python3"
  },
  "language_info": {
   "codemirror_mode": {
    "name": "ipython",
    "version": 3
   },
   "file_extension": ".py",
   "mimetype": "text/x-python",
   "name": "python",
   "nbconvert_exporter": "python",
   "pygments_lexer": "ipython3",
   "version": "3.12.0"
  }
 },
 "nbformat": 4,
 "nbformat_minor": 2
}
